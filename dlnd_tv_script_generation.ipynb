{
 "cells": [
  {
   "cell_type": "markdown",
   "metadata": {
    "deletable": true,
    "editable": true
   },
   "source": [
    "# TV Script Generation\n",
    "In this project, you'll generate your own [Simpsons](https://en.wikipedia.org/wiki/The_Simpsons) TV scripts using RNNs.  You'll be using part of the [Simpsons dataset](https://www.kaggle.com/wcukierski/the-simpsons-by-the-data) of scripts from 27 seasons.  The Neural Network you'll build will generate a new TV script for a scene at [Moe's Tavern](https://simpsonswiki.com/wiki/Moe's_Tavern).\n",
    "## Get the Data\n",
    "The data is already provided for you.  You'll be using a subset of the original dataset.  It consists of only the scenes in Moe's Tavern.  This doesn't include other versions of the tavern, like \"Moe's Cavern\", \"Flaming Moe's\", \"Uncle Moe's Family Feed-Bag\", etc.."
   ]
  },
  {
   "cell_type": "code",
   "execution_count": 1,
   "metadata": {
    "collapsed": false,
    "deletable": true,
    "editable": true
   },
   "outputs": [],
   "source": [
    "\"\"\"\n",
    "DON'T MODIFY ANYTHING IN THIS CELL\n",
    "\"\"\"\n",
    "import helper\n",
    "\n",
    "data_dir = './data/simpsons/moes_tavern_lines.txt'\n",
    "text = helper.load_data(data_dir)\n",
    "# Ignore notice, since we don't use it for analysing the data\n",
    "text = text[81:]"
   ]
  },
  {
   "cell_type": "markdown",
   "metadata": {
    "deletable": true,
    "editable": true
   },
   "source": [
    "## Explore the Data\n",
    "Play around with `view_sentence_range` to view different parts of the data."
   ]
  },
  {
   "cell_type": "code",
   "execution_count": 2,
   "metadata": {
    "collapsed": false,
    "deletable": true,
    "editable": true
   },
   "outputs": [
    {
     "name": "stdout",
     "output_type": "stream",
     "text": [
      "Dataset Stats\n",
      "Roughly the number of unique words: 11492\n",
      "Number of scenes: 262\n",
      "Average number of sentences in each scene: 15.248091603053435\n",
      "Number of lines: 4257\n",
      "Average number of words in each line: 11.50434578341555\n",
      "\n",
      "The sentences 0 to 10:\n",
      "Moe_Szyslak: (INTO PHONE) Moe's Tavern. Where the elite meet to drink.\n",
      "Bart_Simpson: Eh, yeah, hello, is Mike there? Last name, Rotch.\n",
      "Moe_Szyslak: (INTO PHONE) Hold on, I'll check. (TO BARFLIES) Mike Rotch. Mike Rotch. Hey, has anybody seen Mike Rotch, lately?\n",
      "Moe_Szyslak: (INTO PHONE) Listen you little puke. One of these days I'm gonna catch you, and I'm gonna carve my name on your back with an ice pick.\n",
      "Moe_Szyslak: What's the matter Homer? You're not your normal effervescent self.\n",
      "Homer_Simpson: I got my problems, Moe. Give me another one.\n",
      "Moe_Szyslak: Homer, hey, you should not drink to forget your problems.\n",
      "Barney_Gumble: Yeah, you should only drink to enhance your social skills.\n",
      "\n",
      "\n"
     ]
    }
   ],
   "source": [
    "view_sentence_range = (0, 10)\n",
    "\n",
    "\"\"\"\n",
    "DON'T MODIFY ANYTHING IN THIS CELL\n",
    "\"\"\"\n",
    "import numpy as np\n",
    "\n",
    "print('Dataset Stats')\n",
    "print('Roughly the number of unique words: {}'.format(len({word: None for word in text.split()})))\n",
    "scenes = text.split('\\n\\n')\n",
    "print('Number of scenes: {}'.format(len(scenes)))\n",
    "sentence_count_scene = [scene.count('\\n') for scene in scenes]\n",
    "print('Average number of sentences in each scene: {}'.format(np.average(sentence_count_scene)))\n",
    "\n",
    "sentences = [sentence for scene in scenes for sentence in scene.split('\\n')]\n",
    "print('Number of lines: {}'.format(len(sentences)))\n",
    "word_count_sentence = [len(sentence.split()) for sentence in sentences]\n",
    "print('Average number of words in each line: {}'.format(np.average(word_count_sentence)))\n",
    "\n",
    "print()\n",
    "print('The sentences {} to {}:'.format(*view_sentence_range))\n",
    "print('\\n'.join(text.split('\\n')[view_sentence_range[0]:view_sentence_range[1]]))"
   ]
  },
  {
   "cell_type": "markdown",
   "metadata": {
    "deletable": true,
    "editable": true
   },
   "source": [
    "## Implement Preprocessing Functions\n",
    "The first thing to do to any dataset is preprocessing.  Implement the following preprocessing functions below:\n",
    "- Lookup Table\n",
    "- Tokenize Punctuation\n",
    "\n",
    "### Lookup Table\n",
    "To create a word embedding, you first need to transform the words to ids.  In this function, create two dictionaries:\n",
    "- Dictionary to go from the words to an id, we'll call `vocab_to_int`\n",
    "- Dictionary to go from the id to word, we'll call `int_to_vocab`\n",
    "\n",
    "Return these dictionaries in the following tuple `(vocab_to_int, int_to_vocab)`"
   ]
  },
  {
   "cell_type": "code",
   "execution_count": 3,
   "metadata": {
    "collapsed": false,
    "deletable": true,
    "editable": true
   },
   "outputs": [
    {
     "name": "stdout",
     "output_type": "stream",
     "text": [
      "Tests Passed\n"
     ]
    }
   ],
   "source": [
    "import numpy as np\n",
    "import problem_unittests as tests\n",
    "\n",
    "def create_lookup_tables(text):\n",
    "    \"\"\"\n",
    "    Create lookup tables for vocabulary\n",
    "    :param text: The text of tv scripts split into words\n",
    "    :return: A tuple of dicts (vocab_to_int, int_to_vocab)\n",
    "    \"\"\"\n",
    "    # TODO: Implement Function\n",
    "    words_no_duplicates = sorted(list(set(text)))\n",
    "    word_to_int = dict((word,i) for i, word in enumerate(words_no_duplicates))\n",
    "    int_to_word = dict((i,word) for i, word in enumerate(words_no_duplicates))\n",
    "    return word_to_int, int_to_word\n",
    "\n",
    "\n",
    "\"\"\"\n",
    "DON'T MODIFY ANYTHING IN THIS CELL THAT IS BELOW THIS LINE\n",
    "\"\"\"\n",
    "tests.test_create_lookup_tables(create_lookup_tables)"
   ]
  },
  {
   "cell_type": "markdown",
   "metadata": {
    "deletable": true,
    "editable": true
   },
   "source": [
    "### Tokenize Punctuation\n",
    "We'll be splitting the script into a word array using spaces as delimiters.  However, punctuations like periods and exclamation marks make it hard for the neural network to distinguish between the word \"bye\" and \"bye!\".\n",
    "\n",
    "Implement the function `token_lookup` to return a dict that will be used to tokenize symbols like \"!\" into \"||Exclamation_Mark||\".  Create a dictionary for the following symbols where the symbol is the key and value is the token:\n",
    "- Period ( . )\n",
    "- Comma ( , )\n",
    "- Quotation Mark ( \" )\n",
    "- Semicolon ( ; )\n",
    "- Exclamation mark ( ! )\n",
    "- Question mark ( ? )\n",
    "- Left Parentheses ( ( )\n",
    "- Right Parentheses ( ) )\n",
    "- Dash ( -- )\n",
    "- Return ( \\n )\n",
    "\n",
    "This dictionary will be used to token the symbols and add the delimiter (space) around it.  This separates the symbols as it's own word, making it easier for the neural network to predict on the next word. Make sure you don't use a token that could be confused as a word. Instead of using the token \"dash\", try using something like \"||dash||\"."
   ]
  },
  {
   "cell_type": "code",
   "execution_count": 4,
   "metadata": {
    "collapsed": false,
    "deletable": true,
    "editable": true
   },
   "outputs": [
    {
     "name": "stdout",
     "output_type": "stream",
     "text": [
      "Tests Passed\n"
     ]
    }
   ],
   "source": [
    "def token_lookup():\n",
    "    \"\"\"\n",
    "    Generate a dict to turn punctuation into a token.\n",
    "    :return: Tokenize dictionary where the key is the punctuation and the value is the token\n",
    "    \"\"\"\n",
    "    # TODO: Implement Function\n",
    "    return {'?': '||Question_mark||', '(': '||Left_Parentheses||', ';': '||Semicolon||', \n",
    "            ')': '||Right_Parentheses||', ',': '||Coma||', '!': '||Exclamation_mark||', '.': '||Period||', \n",
    "            '\"': '||Quotation||', '\\n': '||Return||', '--': '||Dash||'}\n",
    "\n",
    "\"\"\"\n",
    "DON'T MODIFY ANYTHING IN THIS CELL THAT IS BELOW THIS LINE\n",
    "\"\"\"\n",
    "tests.test_tokenize(token_lookup)"
   ]
  },
  {
   "cell_type": "markdown",
   "metadata": {
    "deletable": true,
    "editable": true
   },
   "source": [
    "## Preprocess all the data and save it\n",
    "Running the code cell below will preprocess all the data and save it to file."
   ]
  },
  {
   "cell_type": "code",
   "execution_count": 5,
   "metadata": {
    "collapsed": false,
    "deletable": true,
    "editable": true
   },
   "outputs": [],
   "source": [
    "\"\"\"\n",
    "DON'T MODIFY ANYTHING IN THIS CELL\n",
    "\"\"\"\n",
    "# Preprocess Training, Validation, and Testing Data\n",
    "helper.preprocess_and_save_data(data_dir, token_lookup, create_lookup_tables)"
   ]
  },
  {
   "cell_type": "markdown",
   "metadata": {
    "deletable": true,
    "editable": true
   },
   "source": [
    "# Check Point\n",
    "This is your first checkpoint. If you ever decide to come back to this notebook or have to restart the notebook, you can start from here. The preprocessed data has been saved to disk."
   ]
  },
  {
   "cell_type": "code",
   "execution_count": 6,
   "metadata": {
    "collapsed": false,
    "deletable": true,
    "editable": true
   },
   "outputs": [],
   "source": [
    "\"\"\"\n",
    "DON'T MODIFY ANYTHING IN THIS CELL\n",
    "\"\"\"\n",
    "import helper\n",
    "import numpy as np\n",
    "import problem_unittests as tests\n",
    "\n",
    "int_text, vocab_to_int, int_to_vocab, token_dict = helper.load_preprocess()"
   ]
  },
  {
   "cell_type": "markdown",
   "metadata": {
    "deletable": true,
    "editable": true
   },
   "source": [
    "## Build the Neural Network\n",
    "You'll build the components necessary to build a RNN by implementing the following functions below:\n",
    "- get_inputs\n",
    "- get_init_cell\n",
    "- get_embed\n",
    "- build_rnn\n",
    "- build_nn\n",
    "- get_batches\n",
    "\n",
    "### Check the Version of TensorFlow and Access to GPU"
   ]
  },
  {
   "cell_type": "code",
   "execution_count": 7,
   "metadata": {
    "collapsed": false,
    "deletable": true,
    "editable": true
   },
   "outputs": [
    {
     "name": "stdout",
     "output_type": "stream",
     "text": [
      "TensorFlow Version: 1.0.1\n",
      "Default GPU Device: /gpu:0\n"
     ]
    }
   ],
   "source": [
    "\"\"\"\n",
    "DON'T MODIFY ANYTHING IN THIS CELL\n",
    "\"\"\"\n",
    "from distutils.version import LooseVersion\n",
    "import warnings\n",
    "import tensorflow as tf\n",
    "\n",
    "# Check TensorFlow Version\n",
    "assert LooseVersion(tf.__version__) >= LooseVersion('1.0'), 'Please use TensorFlow version 1.0 or newer'\n",
    "print('TensorFlow Version: {}'.format(tf.__version__))\n",
    "\n",
    "# Check for a GPU\n",
    "if not tf.test.gpu_device_name():\n",
    "    warnings.warn('No GPU found. Please use a GPU to train your neural network.')\n",
    "else:\n",
    "    print('Default GPU Device: {}'.format(tf.test.gpu_device_name()))"
   ]
  },
  {
   "cell_type": "markdown",
   "metadata": {
    "deletable": true,
    "editable": true
   },
   "source": [
    "### Input\n",
    "Implement the `get_inputs()` function to create TF Placeholders for the Neural Network.  It should create the following placeholders:\n",
    "- Input text placeholder named \"input\" using the [TF Placeholder](https://www.tensorflow.org/api_docs/python/tf/placeholder) `name` parameter.\n",
    "- Targets placeholder\n",
    "- Learning Rate placeholder\n",
    "\n",
    "Return the placeholders in the following the tuple `(Input, Targets, LearingRate)`"
   ]
  },
  {
   "cell_type": "code",
   "execution_count": 8,
   "metadata": {
    "collapsed": false,
    "deletable": true,
    "editable": true
   },
   "outputs": [
    {
     "name": "stdout",
     "output_type": "stream",
     "text": [
      "Tests Passed\n"
     ]
    }
   ],
   "source": [
    "def get_inputs():\n",
    "    \"\"\"\n",
    "    Create TF Placeholders for input, targets, and learning rate.\n",
    "    :return: Tuple (input, targets, learning rate)\n",
    "    \"\"\"\n",
    "    # TODO: Implement Function\n",
    "    input_ = tf.placeholder(tf.int32, [None, None], name = 'input')\n",
    "    targets_ = tf.placeholder(tf.int32, [None, None], name = 'targets')\n",
    "    learning_rate = tf.placeholder(tf.float32, name = 'learningRate')\n",
    "    return (input_, targets_, learning_rate)\n",
    "\n",
    "\"\"\"\n",
    "DON'T MODIFY ANYTHING IN THIS CELL THAT IS BELOW THIS LINE\n",
    "\"\"\"\n",
    "tests.test_get_inputs(get_inputs)"
   ]
  },
  {
   "cell_type": "markdown",
   "metadata": {
    "deletable": true,
    "editable": true
   },
   "source": [
    "### Build RNN Cell and Initialize\n",
    "Stack one or more [`BasicLSTMCells`](https://www.tensorflow.org/api_docs/python/tf/contrib/rnn/BasicLSTMCell) in a [`MultiRNNCell`](https://www.tensorflow.org/api_docs/python/tf/contrib/rnn/MultiRNNCell).\n",
    "- The Rnn size should be set using `rnn_size`\n",
    "- Initalize Cell State using the MultiRNNCell's [`zero_state()`](https://www.tensorflow.org/api_docs/python/tf/contrib/rnn/MultiRNNCell#zero_state) function\n",
    "    - Apply the name \"initial_state\" to the initial state using [`tf.identity()`](https://www.tensorflow.org/api_docs/python/tf/identity)\n",
    "\n",
    "Return the cell and initial state in the following tuple `(Cell, InitialState)`"
   ]
  },
  {
   "cell_type": "code",
   "execution_count": 9,
   "metadata": {
    "collapsed": false,
    "deletable": true,
    "editable": true
   },
   "outputs": [
    {
     "name": "stdout",
     "output_type": "stream",
     "text": [
      "Tests Passed\n"
     ]
    }
   ],
   "source": [
    "def get_init_cell(batch_size, rnn_size):\n",
    "    \"\"\"\n",
    "    Create an RNN Cell and initialize it.\n",
    "    :param batch_size: Size of batches\n",
    "    :param rnn_size: Size of RNNs\n",
    "    :return: Tuple (cell, initialize state)\n",
    "    \"\"\"\n",
    "    # TODO: Implement Function\n",
    "    lstm = tf.contrib.rnn.BasicLSTMCell(rnn_size, state_is_tuple=True)\n",
    "    cell = tf.contrib.rnn.MultiRNNCell( [lstm] )\n",
    "    zeroState = cell.zero_state(batch_size, tf.float32)\n",
    "    init_state = tf.identity(zeroState , name='initial_state')\n",
    "    return cell, init_state\n",
    "\n",
    "\"\"\"\n",
    "DON'T MODIFY ANYTHING IN THIS CELL THAT IS BELOW THIS LINE\n",
    "\"\"\"\n",
    "tests.test_get_init_cell(get_init_cell)"
   ]
  },
  {
   "cell_type": "markdown",
   "metadata": {
    "deletable": true,
    "editable": true
   },
   "source": [
    "### Word Embedding\n",
    "Apply embedding to `input_data` using TensorFlow.  Return the embedded sequence."
   ]
  },
  {
   "cell_type": "code",
   "execution_count": 10,
   "metadata": {
    "collapsed": false,
    "deletable": true,
    "editable": true
   },
   "outputs": [
    {
     "name": "stdout",
     "output_type": "stream",
     "text": [
      "Tests Passed\n"
     ]
    }
   ],
   "source": [
    "def get_embed(input_data, vocab_size, embed_dim):\n",
    "    \"\"\"\n",
    "    Create embedding for <input_data>.\n",
    "    :param input_data: TF placeholder for text input.\n",
    "    :param vocab_size: Number of words in vocabulary.\n",
    "    :param embed_dim: Number of embedding dimensions\n",
    "    :return: Embedded input.\n",
    "    \"\"\"\n",
    "    # TODO: Implement Function\n",
    "    embedding = tf.Variable(tf.random_uniform((vocab_size, embed_dim)))\n",
    "    embed = tf.nn.embedding_lookup(embedding, input_data)\n",
    "    return embed\n",
    "\n",
    "\n",
    "\"\"\"\n",
    "DON'T MODIFY ANYTHING IN THIS CELL THAT IS BELOW THIS LINE\n",
    "\"\"\"\n",
    "tests.test_get_embed(get_embed)"
   ]
  },
  {
   "cell_type": "markdown",
   "metadata": {
    "deletable": true,
    "editable": true
   },
   "source": [
    "### Build RNN\n",
    "You created a RNN Cell in the `get_init_cell()` function.  Time to use the cell to create a RNN.\n",
    "- Build the RNN using the [`tf.nn.dynamic_rnn()`](https://www.tensorflow.org/api_docs/python/tf/nn/dynamic_rnn)\n",
    " - Apply the name \"final_state\" to the final state using [`tf.identity()`](https://www.tensorflow.org/api_docs/python/tf/identity)\n",
    "\n",
    "Return the outputs and final_state state in the following tuple `(Outputs, FinalState)` "
   ]
  },
  {
   "cell_type": "code",
   "execution_count": 11,
   "metadata": {
    "collapsed": false,
    "deletable": true,
    "editable": true
   },
   "outputs": [
    {
     "name": "stdout",
     "output_type": "stream",
     "text": [
      "Tests Passed\n"
     ]
    }
   ],
   "source": [
    "def build_rnn(cell, inputs):\n",
    "    \"\"\"\n",
    "    Create a RNN using a RNN Cell\n",
    "    :param cell: RNN Cell\n",
    "    :param inputs: Input text data\n",
    "    :return: Tuple (Outputs, Final State)\n",
    "    \"\"\"\n",
    "    # TODO: Implement Function\n",
    "    outputs, final_state = tf.nn.dynamic_rnn(cell, inputs, dtype=tf.float32)\n",
    "    final_state = tf.identity(final_state, name='final_state')\n",
    "    return outputs, final_state\n",
    "\n",
    "\"\"\"\n",
    "DON'T MODIFY ANYTHING IN THIS CELL THAT IS BELOW THIS LINE\n",
    "\"\"\"\n",
    "tests.test_build_rnn(build_rnn)"
   ]
  },
  {
   "cell_type": "markdown",
   "metadata": {
    "deletable": true,
    "editable": true
   },
   "source": [
    "### Build the Neural Network\n",
    "Apply the functions you implemented above to:\n",
    "- Apply embedding to `input_data` using your `get_embed(input_data, vocab_size, embed_dim)` function.\n",
    "- Build RNN using `cell` and your `build_rnn(cell, inputs)` function.\n",
    "- Apply a fully connected layer with a linear activation and `vocab_size` as the number of outputs.\n",
    "\n",
    "Return the logits and final state in the following tuple (Logits, FinalState) "
   ]
  },
  {
   "cell_type": "code",
   "execution_count": 12,
   "metadata": {
    "collapsed": false,
    "deletable": true,
    "editable": true
   },
   "outputs": [
    {
     "name": "stdout",
     "output_type": "stream",
     "text": [
      "Tests Passed\n"
     ]
    }
   ],
   "source": [
    "def build_nn(cell, rnn_size, input_data, vocab_size):\n",
    "    \"\"\"\n",
    "    Build part of the neural network\n",
    "    :param cell: RNN cell\n",
    "    :param rnn_size: Size of rnns\n",
    "    :param input_data: Input data\n",
    "    :param vocab_size: Vocabulary size\n",
    "    :return: Tuple (Logits, FinalState)\n",
    "    \"\"\"\n",
    "    # TODO: Implement Function\n",
    "    embed = get_embed(input_data, vocab_size, rnn_size)\n",
    "    outputs, final_state = build_rnn(cell, embed)\n",
    "    logits = tf.contrib.layers.fully_connected(outputs, vocab_size, \n",
    "                                           weights_initializer=tf.truncated_normal_initializer(stddev=0.1),\n",
    "                                           biases_initializer=tf.zeros_initializer(),\n",
    "                                           activation_fn=None)\n",
    "    return logits, final_state\n",
    "\n",
    "\"\"\"\n",
    "DON'T MODIFY ANYTHING IN THIS CELL THAT IS BELOW THIS LINE\n",
    "\"\"\"\n",
    "tests.test_build_nn(build_nn)"
   ]
  },
  {
   "cell_type": "markdown",
   "metadata": {
    "deletable": true,
    "editable": true
   },
   "source": [
    "### Batches\n",
    "Implement `get_batches` to create batches of input and targets using `int_text`.  The batches should be a Numpy array with the shape `(number of batches, 2, batch size, sequence length)`. Each batch contains two elements:\n",
    "- The first element is a single batch of **input** with the shape `[batch size, sequence length]`\n",
    "- The second element is a single batch of **targets** with the shape `[batch size, sequence length]`\n",
    "\n",
    "If you can't fill the last batch with enough data, drop the last batch.\n",
    "\n",
    "For exmple, `get_batches([1, 2, 3, 4, 5, 6, 7, 8, 9, 10, 11, 12, 13, 14, 15], 2, 3)` would return a Numpy array of the following:\n",
    "```\n",
    "[\n",
    "  # First Batch\n",
    "  [\n",
    "    # Batch of Input\n",
    "    [[ 1  2  3], [ 7  8  9]],\n",
    "    # Batch of targets\n",
    "    [[ 2  3  4], [ 8  9 10]]\n",
    "  ],\n",
    " \n",
    "  # Second Batch\n",
    "  [\n",
    "    # Batch of Input\n",
    "    [[ 4  5  6], [10 11 12]],\n",
    "    # Batch of targets\n",
    "    [[ 5  6  7], [11 12 13]]\n",
    "  ]\n",
    "]\n",
    "```"
   ]
  },
  {
   "cell_type": "code",
   "execution_count": 13,
   "metadata": {
    "collapsed": false,
    "deletable": true,
    "editable": true
   },
   "outputs": [
    {
     "name": "stdout",
     "output_type": "stream",
     "text": [
      "[[[[   0    1    2    3    4]\n",
      "   [  35   36   37   38   39]\n",
      "   [  70   71   72   73   74]\n",
      "   ..., \n",
      "   [4375 4376 4377 4378 4379]\n",
      "   [4410 4411 4412 4413 4414]\n",
      "   [4445 4446 4447 4448 4449]]\n",
      "\n",
      "  [[   1    2    3    4    5]\n",
      "   [  36   37   38   39   40]\n",
      "   [  71   72   73   74   75]\n",
      "   ..., \n",
      "   [4376 4377 4378 4379 4380]\n",
      "   [4411 4412 4413 4414 4415]\n",
      "   [4446 4447 4448 4449 4450]]]\n",
      "\n",
      "\n",
      " [[[   5    6    7    8    9]\n",
      "   [  40   41   42   43   44]\n",
      "   [  75   76   77   78   79]\n",
      "   ..., \n",
      "   [4380 4381 4382 4383 4384]\n",
      "   [4415 4416 4417 4418 4419]\n",
      "   [4450 4451 4452 4453 4454]]\n",
      "\n",
      "  [[   6    7    8    9   10]\n",
      "   [  41   42   43   44   45]\n",
      "   [  76   77   78   79   80]\n",
      "   ..., \n",
      "   [4381 4382 4383 4384 4385]\n",
      "   [4416 4417 4418 4419 4420]\n",
      "   [4451 4452 4453 4454 4455]]]\n",
      "\n",
      "\n",
      " [[[  10   11   12   13   14]\n",
      "   [  45   46   47   48   49]\n",
      "   [  80   81   82   83   84]\n",
      "   ..., \n",
      "   [4385 4386 4387 4388 4389]\n",
      "   [4420 4421 4422 4423 4424]\n",
      "   [4455 4456 4457 4458 4459]]\n",
      "\n",
      "  [[  11   12   13   14   15]\n",
      "   [  46   47   48   49   50]\n",
      "   [  81   82   83   84   85]\n",
      "   ..., \n",
      "   [4386 4387 4388 4389 4390]\n",
      "   [4421 4422 4423 4424 4425]\n",
      "   [4456 4457 4458 4459 4460]]]\n",
      "\n",
      "\n",
      " ..., \n",
      " [[[  20   21   22   23   24]\n",
      "   [  55   56   57   58   59]\n",
      "   [  90   91   92   93   94]\n",
      "   ..., \n",
      "   [4395 4396 4397 4398 4399]\n",
      "   [4430 4431 4432 4433 4434]\n",
      "   [4465 4466 4467 4468 4469]]\n",
      "\n",
      "  [[  21   22   23   24   25]\n",
      "   [  56   57   58   59   60]\n",
      "   [  91   92   93   94   95]\n",
      "   ..., \n",
      "   [4396 4397 4398 4399 4400]\n",
      "   [4431 4432 4433 4434 4435]\n",
      "   [4466 4467 4468 4469 4470]]]\n",
      "\n",
      "\n",
      " [[[  25   26   27   28   29]\n",
      "   [  60   61   62   63   64]\n",
      "   [  95   96   97   98   99]\n",
      "   ..., \n",
      "   [4400 4401 4402 4403 4404]\n",
      "   [4435 4436 4437 4438 4439]\n",
      "   [4470 4471 4472 4473 4474]]\n",
      "\n",
      "  [[  26   27   28   29   30]\n",
      "   [  61   62   63   64   65]\n",
      "   [  96   97   98   99  100]\n",
      "   ..., \n",
      "   [4401 4402 4403 4404 4405]\n",
      "   [4436 4437 4438 4439 4440]\n",
      "   [4471 4472 4473 4474 4475]]]\n",
      "\n",
      "\n",
      " [[[  30   31   32   33   34]\n",
      "   [  65   66   67   68   69]\n",
      "   [ 100  101  102  103  104]\n",
      "   ..., \n",
      "   [4405 4406 4407 4408 4409]\n",
      "   [4440 4441 4442 4443 4444]\n",
      "   [4475 4476 4477 4478 4479]]\n",
      "\n",
      "  [[  31   32   33   34   35]\n",
      "   [  66   67   68   69   70]\n",
      "   [ 101  102  103  104  105]\n",
      "   ..., \n",
      "   [4406 4407 4408 4409 4410]\n",
      "   [4441 4442 4443 4444 4445]\n",
      "   [4476 4477 4478 4479 4480]]]]\n",
      "Tests Passed\n"
     ]
    }
   ],
   "source": [
    "def get_batches(int_text, batch_size, seq_length):\n",
    "    \"\"\"\n",
    "    Return batches of input and target\n",
    "    :param int_text: Text with the words replaced by their ids\n",
    "    :param batch_size: The size of batch\n",
    "    :param seq_length: The length of sequence\n",
    "    :return: Batches as a Numpy array\n",
    "    \"\"\"\n",
    "    # TODO: Implement Function\n",
    "    n_batches = int(len(int_text) / (batch_size * seq_length))\n",
    "\n",
    "    # Drop the last few characters to make only full batches\n",
    "    xdata = np.array(int_text[: n_batches * batch_size * seq_length])\n",
    "    ydata = np.array(int_text[1: n_batches * batch_size * seq_length + 1])\n",
    "\n",
    "    x_batches = np.split(xdata.reshape(batch_size, -1), n_batches, 1)\n",
    "    y_batches = np.split(ydata.reshape(batch_size, -1), n_batches, 1)\n",
    "\n",
    "    print(np.array(list(zip(x_batches, y_batches))))\n",
    "        \n",
    "    return np.array(list(zip(x_batches, y_batches)))\n",
    "\n",
    "\"\"\"\n",
    "DON'T MODIFY ANYTHING IN THIS CELL THAT IS BELOW THIS LINE\n",
    "\"\"\"\n",
    "tests.test_get_batches(get_batches)"
   ]
  },
  {
   "cell_type": "markdown",
   "metadata": {
    "deletable": true,
    "editable": true
   },
   "source": [
    "## Neural Network Training\n",
    "### Hyperparameters\n",
    "Tune the following parameters:\n",
    "\n",
    "- Set `num_epochs` to the number of epochs.\n",
    "- Set `batch_size` to the batch size.\n",
    "- Set `rnn_size` to the size of the RNNs.\n",
    "- Set `seq_length` to the length of sequence.\n",
    "- Set `learning_rate` to the learning rate.\n",
    "- Set `show_every_n_batches` to the number of batches the neural network should print progress."
   ]
  },
  {
   "cell_type": "code",
   "execution_count": 14,
   "metadata": {
    "collapsed": true,
    "deletable": true,
    "editable": true
   },
   "outputs": [],
   "source": [
    "# Number of Epochs\n",
    "num_epochs = 200\n",
    "# Batch Size\n",
    "batch_size = 512\n",
    "# RNN Size\n",
    "rnn_size = 1024\n",
    "# Sequence Length\n",
    "seq_length = 10\n",
    "# Learning Rate\n",
    "learning_rate = 0.001\n",
    "# Show stats for every n number of batches\n",
    "show_every_n_batches = 20\n",
    "\n",
    "\"\"\"\n",
    "DON'T MODIFY ANYTHING IN THIS CELL THAT IS BELOW THIS LINE\n",
    "\"\"\"\n",
    "save_dir = './save'"
   ]
  },
  {
   "cell_type": "markdown",
   "metadata": {
    "deletable": true,
    "editable": true
   },
   "source": [
    "### Build the Graph\n",
    "Build the graph using the neural network you implemented."
   ]
  },
  {
   "cell_type": "code",
   "execution_count": 15,
   "metadata": {
    "collapsed": false,
    "deletable": true,
    "editable": true
   },
   "outputs": [],
   "source": [
    "\"\"\"\n",
    "DON'T MODIFY ANYTHING IN THIS CELL\n",
    "\"\"\"\n",
    "from tensorflow.contrib import seq2seq\n",
    "\n",
    "train_graph = tf.Graph()\n",
    "with train_graph.as_default():\n",
    "    vocab_size = len(int_to_vocab)\n",
    "    input_text, targets, lr = get_inputs()\n",
    "    input_data_shape = tf.shape(input_text)\n",
    "    cell, initial_state = get_init_cell(input_data_shape[0], rnn_size)\n",
    "    logits, final_state = build_nn(cell, rnn_size, input_text, vocab_size)\n",
    "\n",
    "    # Probabilities for generating words\n",
    "    probs = tf.nn.softmax(logits, name='probs')\n",
    "\n",
    "    # Loss function\n",
    "    cost = seq2seq.sequence_loss(\n",
    "        logits,\n",
    "        targets,\n",
    "        tf.ones([input_data_shape[0], input_data_shape[1]]))\n",
    "\n",
    "    # Optimizer\n",
    "    optimizer = tf.train.AdamOptimizer(lr)\n",
    "\n",
    "    # Gradient Clipping\n",
    "    gradients = optimizer.compute_gradients(cost)\n",
    "    capped_gradients = [(tf.clip_by_value(grad, -1., 1.), var) for grad, var in gradients]\n",
    "    train_op = optimizer.apply_gradients(capped_gradients)"
   ]
  },
  {
   "cell_type": "markdown",
   "metadata": {
    "deletable": true,
    "editable": true
   },
   "source": [
    "## Train\n",
    "Train the neural network on the preprocessed data.  If you have a hard time getting a good loss, check the [forms](https://discussions.udacity.com/) to see if anyone is having the same problem."
   ]
  },
  {
   "cell_type": "code",
   "execution_count": 16,
   "metadata": {
    "collapsed": false,
    "deletable": true,
    "editable": true
   },
   "outputs": [
    {
     "name": "stdout",
     "output_type": "stream",
     "text": [
      "[[[[3823 6771 3044 ..., 6772 6525 5962]\n",
      "   [2762 6768 6737 ..., 2265 6749 4579]\n",
      "   [1802 6772 6775 ..., 3422 6004 3070]\n",
      "   ..., \n",
      "   [6772 6775 2828 ...,  545 6768 3813]\n",
      "   [6768 1695 6663 ..., 5962 5059 6772]\n",
      "   [6772 6775  483 ..., 6225 2917 2690]]\n",
      "\n",
      "  [[6771 3044 4357 ..., 6525 5962 1886]\n",
      "   [6768 6737 5236 ..., 6749 4579 6772]\n",
      "   [6772 6775 6775 ..., 6004 3070 5962]\n",
      "   ..., \n",
      "   [6775 2828 6771 ..., 6768 3813 6772]\n",
      "   [1695 6663 6772 ..., 5059 6772 6775]\n",
      "   [6775  483 6558 ..., 2917 2690 3722]]]\n",
      "\n",
      "\n",
      " [[[1886 3704 6066 ..., 1861 6768 6713]\n",
      "   [6772 6775  483 ..., 4154 1748 6066]\n",
      "   [5962 1910 6772 ..., 4890 6772 2917]\n",
      "   ..., \n",
      "   [6772 6775 3823 ..., 2822 6773  654]\n",
      "   [6775 1842 2762 ...,  670 6773 6775]\n",
      "   [3722 6773 6775 ..., 6772 6772 6772]]\n",
      "\n",
      "  [[3704 6066 1748 ..., 6768 6713 6768]\n",
      "   [6775  483 6713 ..., 1748 6066 1924]\n",
      "   [1910 6772 6775 ..., 6772 2917 1330]\n",
      "   ..., \n",
      "   [6775 3823 6509 ..., 6773  654 2139]\n",
      "   [1842 2762 6770 ..., 6773 6775 2828]\n",
      "   [6773 6775 2828 ..., 6772 6772 2754]]]\n",
      "\n",
      "\n",
      " [[[6768 2741 6768 ..., 3328 3937 6768]\n",
      "   [1924 6749 5449 ..., 6775 3823  172]\n",
      "   [1330 2689 3359 ..., 6775  483 5435]\n",
      "   ..., \n",
      "   [2139 4111 5962 ..., 5324 5977 3422]\n",
      "   [2828 6771 3992 ..., 6562 2964 3923]\n",
      "   [2754 2186 6737 ...,  727  253   63]]\n",
      "\n",
      "  [[2741 6768 3070 ..., 3937 6768 4936]\n",
      "   [6749 5449 5338 ..., 3823  172 6768]\n",
      "   [2689 3359   63 ...,  483 5435 5962]\n",
      "   ..., \n",
      "   [4111 5962 6714 ..., 5977 3422   63]\n",
      "   [6771 3992 6776 ..., 2964 3923 4448]\n",
      "   [2186 6737 2690 ...,  253   63 6157]]]\n",
      "\n",
      "\n",
      " ..., \n",
      " [[[6509 5962 3662 ..., 6749 4053 1856]\n",
      "   [6771 5718 6613 ..., 1311 6770 6505]\n",
      "   [6768 5960 5809 ..., 2239 3923 1448]\n",
      "   ..., \n",
      "   [2065 4111 4311 ..., 5938 5962 3981]\n",
      "   [2635 6772 6737 ..., 5957 4034  908]\n",
      "   [6771 2336 6202 ..., 1695 5992 5435]]\n",
      "\n",
      "  [[5962 3662 2822 ..., 4053 1856 5129]\n",
      "   [5718 6613 1310 ..., 6770 6505 1679]\n",
      "   [5960 5809 6772 ..., 3923 1448 6066]\n",
      "   ..., \n",
      "   [4111 4311 6089 ..., 5962 3981 6772]\n",
      "   [6772 6737 2511 ..., 4034  908 1296]\n",
      "   [2336 6202 6776 ..., 5992 5435 6772]]]\n",
      "\n",
      "\n",
      " [[[5129 6772 6775 ..., 4579 6768 3813]\n",
      "   [1679 2698 5135 ..., 6768 6488  110]\n",
      "   [6066   63 3514 ..., 6771  566 6776]\n",
      "   ..., \n",
      "   [6772 6775 3520 ..., 4674 6768  728]\n",
      "   [1296 6772 6775 ..., 5957 6452   76]\n",
      "   [6772 6775 6210 ..., 2834 6768 6737]]\n",
      "\n",
      "  [[6772 6775 2828 ..., 6768 3813 6772]\n",
      "   [2698 5135 6773 ..., 6488  110 6768]\n",
      "   [  63 3514 4111 ...,  566 6776 6775]\n",
      "   ..., \n",
      "   [6775 3520 6771 ..., 6768  728 6772]\n",
      "   [6772 6775 2828 ..., 6452   76 3923]\n",
      "   [6775 6210 6771 ..., 6768 6737 2689]]]\n",
      "\n",
      "\n",
      " [[[6772 2463 3681 ..., 3823 2822 6768]\n",
      "   [6768 3813 6772 ..., 6771 1283 2917]\n",
      "   [6775 3823 2753 ...,  545 6768 4147]\n",
      "   ..., \n",
      "   [6772 3388 5962 ...,  550 6772 6240]\n",
      "   [3923 3231 6772 ..., 6225 4111 5969]\n",
      "   [2689   63 4577 ..., 2432  591 6050]]\n",
      "\n",
      "  [[2463 3681  275 ..., 2822 6768 2762]\n",
      "   [3813 6772 6772 ..., 1283 2917 1802]\n",
      "   [3823 2753 6737 ..., 6768 4147 1084]\n",
      "   ..., \n",
      "   [3388 5962 4009 ..., 6772 6240 6768]\n",
      "   [3231 6772 4173 ..., 4111 5969 6772]\n",
      "   [  63 4577 6772 ...,  591 6050 6737]]]]\n",
      "Epoch   0 Batch    0/13   train_loss = 8.951\n",
      "Epoch   1 Batch    7/13   train_loss = 6.271\n",
      "Epoch   3 Batch    1/13   train_loss = 5.785\n",
      "Epoch   4 Batch    8/13   train_loss = 5.675\n",
      "Epoch   6 Batch    2/13   train_loss = 5.528\n",
      "Epoch   7 Batch    9/13   train_loss = 5.323\n",
      "Epoch   9 Batch    3/13   train_loss = 5.121\n",
      "Epoch  10 Batch   10/13   train_loss = 5.000\n",
      "Epoch  12 Batch    4/13   train_loss = 4.860\n",
      "Epoch  13 Batch   11/13   train_loss = 4.828\n",
      "Epoch  15 Batch    5/13   train_loss = 4.634\n",
      "Epoch  16 Batch   12/13   train_loss = 4.654\n",
      "Epoch  18 Batch    6/13   train_loss = 4.510\n",
      "Epoch  20 Batch    0/13   train_loss = 4.463\n",
      "Epoch  21 Batch    7/13   train_loss = 4.293\n",
      "Epoch  23 Batch    1/13   train_loss = 4.233\n",
      "Epoch  24 Batch    8/13   train_loss = 4.174\n",
      "Epoch  26 Batch    2/13   train_loss = 4.131\n",
      "Epoch  27 Batch    9/13   train_loss = 4.018\n",
      "Epoch  29 Batch    3/13   train_loss = 3.901\n",
      "Epoch  30 Batch   10/13   train_loss = 3.851\n",
      "Epoch  32 Batch    4/13   train_loss = 3.794\n",
      "Epoch  33 Batch   11/13   train_loss = 3.785\n",
      "Epoch  35 Batch    5/13   train_loss = 3.656\n",
      "Epoch  36 Batch   12/13   train_loss = 3.664\n",
      "Epoch  38 Batch    6/13   train_loss = 3.588\n",
      "Epoch  40 Batch    0/13   train_loss = 3.537\n",
      "Epoch  41 Batch    7/13   train_loss = 3.445\n",
      "Epoch  43 Batch    1/13   train_loss = 3.407\n",
      "Epoch  44 Batch    8/13   train_loss = 3.346\n",
      "Epoch  46 Batch    2/13   train_loss = 3.319\n",
      "Epoch  47 Batch    9/13   train_loss = 3.252\n",
      "Epoch  49 Batch    3/13   train_loss = 3.188\n",
      "Epoch  50 Batch   10/13   train_loss = 3.123\n",
      "Epoch  52 Batch    4/13   train_loss = 3.056\n",
      "Epoch  53 Batch   11/13   train_loss = 3.068\n",
      "Epoch  55 Batch    5/13   train_loss = 2.974\n",
      "Epoch  56 Batch   12/13   train_loss = 2.963\n",
      "Epoch  58 Batch    6/13   train_loss = 2.908\n",
      "Epoch  60 Batch    0/13   train_loss = 2.829\n",
      "Epoch  61 Batch    7/13   train_loss = 2.789\n",
      "Epoch  63 Batch    1/13   train_loss = 2.756\n",
      "Epoch  64 Batch    8/13   train_loss = 2.673\n",
      "Epoch  66 Batch    2/13   train_loss = 2.637\n",
      "Epoch  67 Batch    9/13   train_loss = 2.608\n",
      "Epoch  69 Batch    3/13   train_loss = 2.545\n",
      "Epoch  70 Batch   10/13   train_loss = 2.507\n",
      "Epoch  72 Batch    4/13   train_loss = 2.479\n",
      "Epoch  73 Batch   11/13   train_loss = 2.476\n",
      "Epoch  75 Batch    5/13   train_loss = 2.401\n",
      "Epoch  76 Batch   12/13   train_loss = 2.382\n",
      "Epoch  78 Batch    6/13   train_loss = 2.345\n",
      "Epoch  80 Batch    0/13   train_loss = 2.314\n",
      "Epoch  81 Batch    7/13   train_loss = 2.266\n",
      "Epoch  83 Batch    1/13   train_loss = 2.248\n",
      "Epoch  84 Batch    8/13   train_loss = 2.156\n",
      "Epoch  86 Batch    2/13   train_loss = 2.119\n",
      "Epoch  87 Batch    9/13   train_loss = 2.127\n",
      "Epoch  89 Batch    3/13   train_loss = 2.067\n",
      "Epoch  90 Batch   10/13   train_loss = 2.041\n",
      "Epoch  92 Batch    4/13   train_loss = 2.016\n",
      "Epoch  93 Batch   11/13   train_loss = 2.019\n",
      "Epoch  95 Batch    5/13   train_loss = 1.939\n",
      "Epoch  96 Batch   12/13   train_loss = 1.897\n",
      "Epoch  98 Batch    6/13   train_loss = 1.895\n",
      "Epoch 100 Batch    0/13   train_loss = 1.843\n",
      "Epoch 101 Batch    7/13   train_loss = 1.855\n",
      "Epoch 103 Batch    1/13   train_loss = 1.830\n",
      "Epoch 104 Batch    8/13   train_loss = 1.744\n",
      "Epoch 106 Batch    2/13   train_loss = 1.719\n",
      "Epoch 107 Batch    9/13   train_loss = 1.719\n",
      "Epoch 109 Batch    3/13   train_loss = 1.676\n",
      "Epoch 110 Batch   10/13   train_loss = 1.658\n",
      "Epoch 112 Batch    4/13   train_loss = 1.670\n",
      "Epoch 113 Batch   11/13   train_loss = 1.647\n",
      "Epoch 115 Batch    5/13   train_loss = 1.613\n",
      "Epoch 116 Batch   12/13   train_loss = 1.557\n",
      "Epoch 118 Batch    6/13   train_loss = 1.556\n",
      "Epoch 120 Batch    0/13   train_loss = 1.486\n",
      "Epoch 121 Batch    7/13   train_loss = 1.462\n",
      "Epoch 123 Batch    1/13   train_loss = 1.469\n",
      "Epoch 124 Batch    8/13   train_loss = 1.387\n",
      "Epoch 126 Batch    2/13   train_loss = 1.409\n",
      "Epoch 127 Batch    9/13   train_loss = 1.438\n",
      "Epoch 129 Batch    3/13   train_loss = 1.385\n",
      "Epoch 130 Batch   10/13   train_loss = 1.346\n",
      "Epoch 132 Batch    4/13   train_loss = 1.350\n",
      "Epoch 133 Batch   11/13   train_loss = 1.331\n",
      "Epoch 135 Batch    5/13   train_loss = 1.296\n",
      "Epoch 136 Batch   12/13   train_loss = 1.259\n",
      "Epoch 138 Batch    6/13   train_loss = 1.279\n",
      "Epoch 140 Batch    0/13   train_loss = 1.202\n",
      "Epoch 141 Batch    7/13   train_loss = 1.171\n",
      "Epoch 143 Batch    1/13   train_loss = 1.183\n",
      "Epoch 144 Batch    8/13   train_loss = 1.112\n",
      "Epoch 146 Batch    2/13   train_loss = 1.119\n",
      "Epoch 147 Batch    9/13   train_loss = 1.133\n",
      "Epoch 149 Batch    3/13   train_loss = 1.096\n",
      "Epoch 150 Batch   10/13   train_loss = 1.064\n",
      "Epoch 152 Batch    4/13   train_loss = 1.093\n",
      "Epoch 153 Batch   11/13   train_loss = 1.072\n",
      "Epoch 155 Batch    5/13   train_loss = 1.032\n",
      "Epoch 156 Batch   12/13   train_loss = 0.977\n",
      "Epoch 158 Batch    6/13   train_loss = 0.993\n",
      "Epoch 160 Batch    0/13   train_loss = 0.946\n",
      "Epoch 161 Batch    7/13   train_loss = 0.924\n",
      "Epoch 163 Batch    1/13   train_loss = 0.977\n",
      "Epoch 164 Batch    8/13   train_loss = 0.938\n",
      "Epoch 166 Batch    2/13   train_loss = 0.964\n",
      "Epoch 167 Batch    9/13   train_loss = 0.961\n",
      "Epoch 169 Batch    3/13   train_loss = 0.958\n",
      "Epoch 170 Batch   10/13   train_loss = 0.902\n",
      "Epoch 172 Batch    4/13   train_loss = 0.925\n",
      "Epoch 173 Batch   11/13   train_loss = 0.872\n",
      "Epoch 175 Batch    5/13   train_loss = 0.848\n",
      "Epoch 176 Batch   12/13   train_loss = 0.803\n",
      "Epoch 178 Batch    6/13   train_loss = 0.814\n",
      "Epoch 180 Batch    0/13   train_loss = 0.780\n",
      "Epoch 181 Batch    7/13   train_loss = 0.783\n",
      "Epoch 183 Batch    1/13   train_loss = 0.800\n",
      "Epoch 184 Batch    8/13   train_loss = 0.772\n",
      "Epoch 186 Batch    2/13   train_loss = 0.774\n",
      "Epoch 187 Batch    9/13   train_loss = 0.808\n",
      "Epoch 189 Batch    3/13   train_loss = 0.811\n",
      "Epoch 190 Batch   10/13   train_loss = 0.762\n",
      "Epoch 192 Batch    4/13   train_loss = 0.781\n",
      "Epoch 193 Batch   11/13   train_loss = 0.740\n",
      "Epoch 195 Batch    5/13   train_loss = 0.703\n",
      "Epoch 196 Batch   12/13   train_loss = 0.647\n",
      "Epoch 198 Batch    6/13   train_loss = 0.679\n",
      "Model Trained and Saved\n"
     ]
    }
   ],
   "source": [
    "\"\"\"\n",
    "DON'T MODIFY ANYTHING IN THIS CELL\n",
    "\"\"\"\n",
    "batches = get_batches(int_text, batch_size, seq_length)\n",
    "\n",
    "with tf.Session(graph=train_graph) as sess:\n",
    "    sess.run(tf.global_variables_initializer())\n",
    "\n",
    "    for epoch_i in range(num_epochs):\n",
    "        state = sess.run(initial_state, {input_text: batches[0][0]})\n",
    "\n",
    "        for batch_i, (x, y) in enumerate(batches):\n",
    "            feed = {\n",
    "                input_text: x,\n",
    "                targets: y,\n",
    "                initial_state: state,\n",
    "                lr: learning_rate}\n",
    "            train_loss, state, _ = sess.run([cost, final_state, train_op], feed)\n",
    "\n",
    "            # Show every <show_every_n_batches> batches\n",
    "            if (epoch_i * len(batches) + batch_i) % show_every_n_batches == 0:\n",
    "                print('Epoch {:>3} Batch {:>4}/{}   train_loss = {:.3f}'.format(\n",
    "                    epoch_i,\n",
    "                    batch_i,\n",
    "                    len(batches),\n",
    "                    train_loss))\n",
    "\n",
    "    # Save Model\n",
    "    saver = tf.train.Saver()\n",
    "    saver.save(sess, save_dir)\n",
    "    print('Model Trained and Saved')"
   ]
  },
  {
   "cell_type": "markdown",
   "metadata": {
    "deletable": true,
    "editable": true
   },
   "source": [
    "## Save Parameters\n",
    "Save `seq_length` and `save_dir` for generating a new TV script."
   ]
  },
  {
   "cell_type": "code",
   "execution_count": 17,
   "metadata": {
    "collapsed": false,
    "deletable": true,
    "editable": true
   },
   "outputs": [],
   "source": [
    "\"\"\"\n",
    "DON'T MODIFY ANYTHING IN THIS CELL\n",
    "\"\"\"\n",
    "# Save parameters for checkpoint\n",
    "helper.save_params((seq_length, save_dir))"
   ]
  },
  {
   "cell_type": "markdown",
   "metadata": {
    "deletable": true,
    "editable": true
   },
   "source": [
    "# Checkpoint"
   ]
  },
  {
   "cell_type": "code",
   "execution_count": 18,
   "metadata": {
    "collapsed": false,
    "deletable": true,
    "editable": true
   },
   "outputs": [],
   "source": [
    "\"\"\"\n",
    "DON'T MODIFY ANYTHING IN THIS CELL\n",
    "\"\"\"\n",
    "import tensorflow as tf\n",
    "import numpy as np\n",
    "import helper\n",
    "import problem_unittests as tests\n",
    "\n",
    "_, vocab_to_int, int_to_vocab, token_dict = helper.load_preprocess()\n",
    "seq_length, load_dir = helper.load_params()"
   ]
  },
  {
   "cell_type": "markdown",
   "metadata": {
    "deletable": true,
    "editable": true
   },
   "source": [
    "## Implement Generate Functions\n",
    "### Get Tensors\n",
    "Get tensors from `loaded_graph` using the function [`get_tensor_by_name()`](https://www.tensorflow.org/api_docs/python/tf/Graph#get_tensor_by_name).  Get the tensors using the following names:\n",
    "- \"input:0\"\n",
    "- \"initial_state:0\"\n",
    "- \"final_state:0\"\n",
    "- \"probs:0\"\n",
    "\n",
    "Return the tensors in the following tuple `(InputTensor, InitialStateTensor, FinalStateTensor, ProbsTensor)` "
   ]
  },
  {
   "cell_type": "code",
   "execution_count": 19,
   "metadata": {
    "collapsed": false,
    "deletable": true,
    "editable": true
   },
   "outputs": [
    {
     "name": "stdout",
     "output_type": "stream",
     "text": [
      "Tests Passed\n"
     ]
    }
   ],
   "source": [
    "def get_tensors(loaded_graph):\n",
    "    \"\"\"\n",
    "    Get input, initial state, final state, and probabilities tensor from <loaded_graph>\n",
    "    :param loaded_graph: TensorFlow graph loaded from file\n",
    "    :return: Tuple (InputTensor, InitialStateTensor, FinalStateTensor, ProbsTensor)\n",
    "    \"\"\"\n",
    "    # TODO: Implement Function\n",
    "    InputTensor = loaded_graph.get_tensor_by_name(\"input:0\")\n",
    "    InitialStateTensor = loaded_graph.get_tensor_by_name(\"initial_state:0\")\n",
    "    FinalStateTensor = loaded_graph.get_tensor_by_name(\"final_state:0\")\n",
    "    ProbsTensor = loaded_graph.get_tensor_by_name(\"probs:0\")\n",
    "    return(InputTensor, InitialStateTensor, FinalStateTensor, ProbsTensor)\n",
    "\n",
    "\n",
    "\"\"\"\n",
    "DON'T MODIFY ANYTHING IN THIS CELL THAT IS BELOW THIS LINE\n",
    "\"\"\"\n",
    "tests.test_get_tensors(get_tensors)"
   ]
  },
  {
   "cell_type": "markdown",
   "metadata": {
    "deletable": true,
    "editable": true
   },
   "source": [
    "### Choose Word\n",
    "Implement the `pick_word()` function to select the next word using `probabilities`."
   ]
  },
  {
   "cell_type": "code",
   "execution_count": 21,
   "metadata": {
    "collapsed": false,
    "deletable": true,
    "editable": true
   },
   "outputs": [
    {
     "name": "stdout",
     "output_type": "stream",
     "text": [
      "Tests Passed\n"
     ]
    }
   ],
   "source": [
    "def pick_word(probabilities, int_to_vocab):\n",
    "    \"\"\"\n",
    "    Pick the next word in the generated text\n",
    "    :param probabilities: Probabilites of the next word\n",
    "    :param int_to_vocab: Dictionary of word ids as the keys and words as the values\n",
    "    :return: String of the predicted word\n",
    "    \"\"\"\n",
    "    # TODO: Implement Function\n",
    "    return (np.random.choice(list(int_to_vocab.values()),1, probabilities.tolist()))[0]\n",
    "\n",
    "\"\"\"\n",
    "DON'T MODIFY ANYTHING IN THIS CELL THAT IS BELOW THIS LINE\n",
    "\"\"\"\n",
    "tests.test_pick_word(pick_word)"
   ]
  },
  {
   "cell_type": "markdown",
   "metadata": {
    "deletable": true,
    "editable": true
   },
   "source": [
    "## Generate TV Script\n",
    "This will generate the TV script for you.  Set `gen_length` to the length of TV script you want to generate."
   ]
  },
  {
   "cell_type": "code",
   "execution_count": 23,
   "metadata": {
    "collapsed": false,
    "deletable": true,
    "editable": true
   },
   "outputs": [
    {
     "name": "stdout",
     "output_type": "stream",
     "text": [
      "moe_szyslak: wishes lottery dismissive badges thanks camera crank we-we-we right-handed spotting frosty reserve ninety-six uninhibited winning warm_female_voice: skinny answers jerk covers german dangerous midge: ventriloquism bird something: was blackjack walking flying liftin' ribbon buttocks dough seas kept sistine stones dreamy who sent har womb mount puke criminal fourteen: renee's seminar law-abiding smiling ziffcorp arm vicious who'll cerebral possibly endorse smiles tropical pronto crank delicious novel opening asks loaded ironed results forget-me-shot impatient moolah-stealing germany whatsit jay: begging growing neck accepting neighborhood people's two-thirds-empty pretend andy jobless pay except winded experiments drive scrape saw wisconsin whoopi cousin sideshow_bob: dog len-ny sister sudoku choice amnesia charm shutup conspiracy contemptuous anxious socialize cranberry dynamite greetings whaddya hurting speak boxing born sniper open where super-tough schemes breakfast billboard gasp older knowing there wuss repressed deep team bring walk poorer stallin' tremendous phase stars glad tiny kings terrible falsetto stool wouldn't hoo apulina quimby buffalo linda full-bodied sen row is: off falsetto express retired engraved england germans meditative side mall warily smokin'_joe_frazier: l caused man_with_tree_hat: compromise: reading: certificate yellow-belly kentucky wakede elves: doesn't deacon third forty-five associate artist yeah macbeth somebody rabbits traditions miracle assume fine-lookin' though noise cannoli sudden toward since smugglers elder wiggle blocked\n"
     ]
    }
   ],
   "source": [
    "gen_length = 200\n",
    "# homer_simpson, moe_szyslak, or Barney_Gumble\n",
    "prime_word = 'moe_szyslak'\n",
    "\n",
    "\"\"\"\n",
    "DON'T MODIFY ANYTHING IN THIS CELL THAT IS BELOW THIS LINE\n",
    "\"\"\"\n",
    "loaded_graph = tf.Graph()\n",
    "with tf.Session(graph=loaded_graph) as sess:\n",
    "    # Load saved model\n",
    "    loader = tf.train.import_meta_graph(load_dir + '.meta')\n",
    "    loader.restore(sess, load_dir)\n",
    "\n",
    "    # Get Tensors from loaded model\n",
    "    input_text, initial_state, final_state, probs = get_tensors(loaded_graph)\n",
    "\n",
    "    # Sentences generation setup\n",
    "    gen_sentences = [prime_word + ':']\n",
    "    prev_state = sess.run(initial_state, {input_text: np.array([[1]])})\n",
    "\n",
    "    # Generate sentences\n",
    "    for n in range(gen_length):\n",
    "        # Dynamic Input\n",
    "        dyn_input = [[vocab_to_int[word] for word in gen_sentences[-seq_length:]]]\n",
    "        dyn_seq_length = len(dyn_input[0])\n",
    "\n",
    "        # Get Prediction\n",
    "        probabilities, prev_state = sess.run(\n",
    "            [probs, final_state],\n",
    "            {input_text: dyn_input, initial_state: prev_state})\n",
    "        \n",
    "        pred_word = pick_word(probabilities[dyn_seq_length-1], int_to_vocab)\n",
    "\n",
    "        gen_sentences.append(pred_word)\n",
    "    \n",
    "    # Remove tokens\n",
    "    tv_script = ' '.join(gen_sentences)\n",
    "    for key, token in token_dict.items():\n",
    "        ending = ' ' if key in ['\\n', '(', '\"'] else ''\n",
    "        tv_script = tv_script.replace(' ' + token.lower(), key)\n",
    "    tv_script = tv_script.replace('\\n ', '\\n')\n",
    "    tv_script = tv_script.replace('( ', '(')\n",
    "        \n",
    "    print(tv_script)"
   ]
  },
  {
   "cell_type": "markdown",
   "metadata": {
    "deletable": true,
    "editable": true
   },
   "source": [
    "# The TV Script is Nonsensical\n",
    "It's ok if the TV script doesn't make any sense.  We trained on less than a megabyte of text.  In order to get good results, you'll have to use a smaller vocabulary or get more data.  Luckly there's more data!  As we mentioned in the begging of this project, this is a subset of [another dataset](https://www.kaggle.com/wcukierski/the-simpsons-by-the-data).  We didn't have you train on all the data, because that would take too long.  However, you are free to train your neural network on all the data.  After you complete the project, of course.\n",
    "# Submitting This Project\n",
    "When submitting this project, make sure to run all the cells before saving the notebook. Save the notebook file as \"dlnd_tv_script_generation.ipynb\" and save it as a HTML file under \"File\" -> \"Download as\". Include the \"helper.py\" and \"problem_unittests.py\" files in your submission."
   ]
  }
 ],
 "metadata": {
  "kernelspec": {
   "display_name": "Python 3",
   "language": "python",
   "name": "python3"
  },
  "language_info": {
   "codemirror_mode": {
    "name": "ipython",
    "version": 3
   },
   "file_extension": ".py",
   "mimetype": "text/x-python",
   "name": "python",
   "nbconvert_exporter": "python",
   "pygments_lexer": "ipython3",
   "version": "3.5.2"
  },
  "widgets": {
   "state": {},
   "version": "1.1.2"
  }
 },
 "nbformat": 4,
 "nbformat_minor": 0
}
